{
  "cells": [
    {
      "cell_type": "code",
      "execution_count": 1,
      "metadata": {
        "id": "zwfZGneCdQSg"
      },
      "outputs": [],
      "source": [
        "from IPython.display import clear_output"
      ]
    },
    {
      "cell_type": "code",
      "execution_count": 2,
      "metadata": {
        "id": "a9FjTEzAdQ28"
      },
      "outputs": [],
      "source": [
        "# Make sure to install all these libraries\n",
        "# !pip install torch torchvision torchsummary\n",
        "# # %pip install numpy\n",
        "# # %pip install matplotlib\n",
        "\n",
        "# clear_output()"
      ]
    },
    {
      "cell_type": "code",
      "execution_count": 3,
      "metadata": {
        "id": "tQaUBH8lmnnr"
      },
      "outputs": [],
      "source": [
        "import torch\n",
        "import numpy as np\n",
        "import torch.nn as nn\n",
        "from torchvision import transforms\n",
        "from torchvision.datasets import MNIST\n",
        "from torch.utils.data.sampler import SubsetRandomSampler\n",
        "from torchsummary import summary\n",
        "import matplotlib.pyplot as plt\n",
        "from mpl_toolkits.axes_grid1 import ImageGrid"
      ]
    },
    {
      "cell_type": "markdown",
      "metadata": {
        "id": "gC2jmrtmiUm7"
      },
      "source": [
        "## Contents\n",
        "\n",
        "Today we'll attempt to create a number image generator through auto encoders. Here's the technique\n",
        "\n",
        "1. The model has 2 parts, an encoder and a decoder\n",
        "2. The encoder takes number image (mnist) and converts it into an embedding/encoding of specified size (output of encoder last layer). by passing it through multiple linear layers.\n",
        "3. The decoder then takes that encoding and attempts to re-create the original image\n",
        "4. During training, our cost function is the difference between generated image and original image. we'll use MSE Loss for this\n",
        "5. Once the training is complete, we'll create our own embeddings of specified size ourselves and run it through the decoder to generate images\n",
        "\n",
        "\n",
        "Note: In this notebook we'll limit ourselves to Linear Layers or BatchNorm's only (and activations). Which means NO CNN, attention, or anything fancier. For this reason, the performance might be questionable. What we wanna see is the model trying to capture the pattern?\n",
        "\n",
        "You need to know:\n",
        "\n",
        "1. **pytorch** (for impelementation)\n",
        "2. a bit of **torch dataloaders and datasets** (not necessary but helps understanding how we're loading data)\n",
        "3. A little bit of **matplotlib** (for result and training trajectory visualization)"
      ]
    },
    {
      "cell_type": "code",
      "execution_count": 4,
      "metadata": {
        "colab": {
          "base_uri": "https://localhost:8080/"
        },
        "id": "b83RYTZueJCW",
        "outputId": "7304c1e5-facd-48c8-b8ac-7da4cc552c26"
      },
      "outputs": [
        {
          "name": "stdout",
          "output_type": "stream",
          "text": [
            "Downloading http://yann.lecun.com/exdb/mnist/train-images-idx3-ubyte.gz\n",
            "Downloading http://yann.lecun.com/exdb/mnist/train-images-idx3-ubyte.gz to ./datasets/MNIST/raw/train-images-idx3-ubyte.gz\n"
          ]
        },
        {
          "name": "stderr",
          "output_type": "stream",
          "text": [
            "100%|██████████| 9912422/9912422 [00:00<00:00, 39400078.32it/s]\n"
          ]
        },
        {
          "name": "stdout",
          "output_type": "stream",
          "text": [
            "Extracting ./datasets/MNIST/raw/train-images-idx3-ubyte.gz to ./datasets/MNIST/raw\n",
            "\n",
            "Downloading http://yann.lecun.com/exdb/mnist/train-labels-idx1-ubyte.gz\n",
            "Downloading http://yann.lecun.com/exdb/mnist/train-labels-idx1-ubyte.gz to ./datasets/MNIST/raw/train-labels-idx1-ubyte.gz\n"
          ]
        },
        {
          "name": "stderr",
          "output_type": "stream",
          "text": [
            "100%|██████████| 28881/28881 [00:00<00:00, 79329203.55it/s]\n"
          ]
        },
        {
          "name": "stdout",
          "output_type": "stream",
          "text": [
            "Extracting ./datasets/MNIST/raw/train-labels-idx1-ubyte.gz to ./datasets/MNIST/raw\n",
            "\n",
            "Downloading http://yann.lecun.com/exdb/mnist/t10k-images-idx3-ubyte.gz\n",
            "Downloading http://yann.lecun.com/exdb/mnist/t10k-images-idx3-ubyte.gz to ./datasets/MNIST/raw/t10k-images-idx3-ubyte.gz\n"
          ]
        },
        {
          "name": "stderr",
          "output_type": "stream",
          "text": [
            "100%|██████████| 1648877/1648877 [00:00<00:00, 43967090.26it/s]\n"
          ]
        },
        {
          "name": "stdout",
          "output_type": "stream",
          "text": [
            "Extracting ./datasets/MNIST/raw/t10k-images-idx3-ubyte.gz to ./datasets/MNIST/raw\n",
            "\n",
            "Downloading http://yann.lecun.com/exdb/mnist/t10k-labels-idx1-ubyte.gz\n",
            "Downloading http://yann.lecun.com/exdb/mnist/t10k-labels-idx1-ubyte.gz to ./datasets/MNIST/raw/t10k-labels-idx1-ubyte.gz\n"
          ]
        },
        {
          "name": "stderr",
          "output_type": "stream",
          "text": [
            "100%|██████████| 4542/4542 [00:00<00:00, 1698362.20it/s]\n"
          ]
        },
        {
          "name": "stdout",
          "output_type": "stream",
          "text": [
            "Extracting ./datasets/MNIST/raw/t10k-labels-idx1-ubyte.gz to ./datasets/MNIST/raw\n",
            "\n"
          ]
        }
      ],
      "source": [
        "batch_size = 64\n",
        "\n",
        "train_transforms = transforms.Compose([\n",
        "                        transforms.RandomCrop(28, padding=4),\n",
        "                        transforms.ToTensor(),\n",
        "                    ])\n",
        "\n",
        "train_data = MNIST(root='./datasets', train=True, download=True, transform=train_transforms)\n",
        "train_loader = torch.utils.data.DataLoader(train_data, batch_size=batch_size, shuffle=True)"
      ]
    },
    {
      "cell_type": "code",
      "execution_count": 5,
      "metadata": {
        "id": "iEF-W-XZnB68"
      },
      "outputs": [],
      "source": [
        "class AutoEncoderGenerator(nn.Module):\n",
        "\n",
        "  def __init__(self, dim_z):\n",
        "    super().__init__()\n",
        "\n",
        "\n",
        "    self.Encoder = nn.Sequential(\n",
        "      nn.Linear(28*28, 512),\n",
        "      nn.Tanh(),\n",
        "      nn.Linear(512, dim_z),\n",
        "      nn.Tanh()\n",
        "      )\n",
        "\n",
        "\n",
        "    self.Decoder = nn.Sequential(\n",
        "        nn.Linear(dim_z, 512),\n",
        "        nn.Tanh(),\n",
        "        nn.Linear(512, 28*28),\n",
        "        nn.Sigmoid()\n",
        "      )\n",
        "\n",
        "  def forward(self, x):\n",
        "\n",
        "    original_shape = x.shape\n",
        "    x = torch.flatten(x, start_dim=1)\n",
        "\n",
        "    z = self.Encoder(x)\n",
        "    x = self.Decoder(z)\n",
        "\n",
        "    x = x.view(original_shape)\n",
        "\n",
        "    return x"
      ]
    },
    {
      "cell_type": "code",
      "execution_count": 6,
      "metadata": {
        "id": "IFKJOAj5Pbdl"
      },
      "outputs": [],
      "source": [
        "dim_z = 128\n",
        "model = AutoEncoderGenerator(dim_z=dim_z)"
      ]
    },
    {
      "cell_type": "code",
      "execution_count": 7,
      "metadata": {
        "colab": {
          "base_uri": "https://localhost:8080/"
        },
        "id": "YWBNQw3LtZd4",
        "outputId": "9541ab99-4ced-442f-b450-fa4e0949aacf"
      },
      "outputs": [
        {
          "name": "stdout",
          "output_type": "stream",
          "text": [
            "----------------------------------------------------------------\n",
            "        Layer (type)               Output Shape         Param #\n",
            "================================================================\n",
            "            Linear-1                  [-1, 512]         401,920\n",
            "              Tanh-2                  [-1, 512]               0\n",
            "            Linear-3                  [-1, 128]          65,664\n",
            "              Tanh-4                  [-1, 128]               0\n",
            "            Linear-5                  [-1, 512]          66,048\n",
            "              Tanh-6                  [-1, 512]               0\n",
            "            Linear-7                  [-1, 784]         402,192\n",
            "           Sigmoid-8                  [-1, 784]               0\n",
            "================================================================\n",
            "Total params: 935,824\n",
            "Trainable params: 935,824\n",
            "Non-trainable params: 0\n",
            "----------------------------------------------------------------\n",
            "Input size (MB): 0.00\n",
            "Forward/backward pass size (MB): 0.03\n",
            "Params size (MB): 3.57\n",
            "Estimated Total Size (MB): 3.60\n",
            "----------------------------------------------------------------\n"
          ]
        }
      ],
      "source": [
        "summary(model, (1, 28, 28), device='cpu')"
      ]
    },
    {
      "cell_type": "code",
      "execution_count": 8,
      "metadata": {
        "id": "tXbOcut4fJFV"
      },
      "outputs": [],
      "source": [
        "device = 'cuda' if torch.cuda.is_available() else 'cpu'\n",
        "\n",
        "model.to(device)\n",
        "\n",
        "num_epochs = 20\n",
        "lr = 1e-4\n",
        "optimizer = torch.optim.Adam(model.parameters(), lr=lr)\n",
        "criterion = nn.MSELoss()"
      ]
    },
    {
      "cell_type": "code",
      "execution_count": 9,
      "metadata": {
        "colab": {
          "base_uri": "https://localhost:8080/"
        },
        "id": "CFXvYta-rxsT",
        "outputId": "82dea5f5-140e-40e9-c320-bc18da2530cb"
      },
      "outputs": [
        {
          "name": "stdout",
          "output_type": "stream",
          "text": [
            "epoch 0/20, loss = 0.0815862267057101\n",
            "epoch 1/20, loss = 0.06346248704989751\n",
            "epoch 2/20, loss = 0.043999610527356466\n",
            "epoch 3/20, loss = 0.03205038306216399\n",
            "epoch 4/20, loss = 0.024872318216164906\n",
            "epoch 5/20, loss = 0.01989143417427937\n",
            "epoch 6/20, loss = 0.016786329927047094\n",
            "epoch 7/20, loss = 0.014716503711044788\n",
            "epoch 8/20, loss = 0.01306908162633578\n",
            "epoch 9/20, loss = 0.011751877680420875\n",
            "epoch 10/20, loss = 0.010615210941930612\n",
            "epoch 11/20, loss = 0.009720422134796779\n",
            "epoch 12/20, loss = 0.009016824367642402\n",
            "epoch 13/20, loss = 0.00841038055519263\n",
            "epoch 14/20, loss = 0.007857801940043768\n",
            "epoch 15/20, loss = 0.007403335317224264\n",
            "epoch 16/20, loss = 0.007002498631924391\n",
            "epoch 17/20, loss = 0.006671566321204106\n",
            "epoch 18/20, loss = 0.006375722616662582\n",
            "epoch 19/20, loss = 0.006094910312195619\n"
          ]
        }
      ],
      "source": [
        "train_losses = []\n",
        "\n",
        "for i in range(num_epochs):\n",
        "\n",
        "  epoch_weighted_loss = 0\n",
        "  for (X, _) in train_loader:\n",
        "\n",
        "    X = X.to(device)\n",
        "\n",
        "    Xhat = model(X)  # Xhat because we're trying to have the model regenerate what's fed to it (X)\n",
        "\n",
        "    optimizer.zero_grad()\n",
        "    loss = criterion(Xhat, X)\n",
        "    loss.backward()\n",
        "    optimizer.step()\n",
        "\n",
        "    epoch_weighted_loss += loss.item()*len(X)\n",
        "\n",
        "  epoch_loss = epoch_weighted_loss/len(train_loader.dataset)\n",
        "\n",
        "  print(f'epoch {i}/{num_epochs}, loss = {epoch_loss}')\n",
        "\n",
        "  train_losses.append(epoch_loss)"
      ]
    },
    {
      "cell_type": "code",
      "execution_count": 10,
      "metadata": {
        "colab": {
          "base_uri": "https://localhost:8080/",
          "height": 447
        },
        "id": "XUwJuIZosq1_",
        "outputId": "3d20d96c-3317-444f-84a8-c068094ac1a6"
      },
      "outputs": [
        {
          "data": {
            "text/plain": [
              "[<matplotlib.lines.Line2D at 0x7ea630fd7cd0>]"
            ]
          },
          "execution_count": 10,
          "metadata": {},
          "output_type": "execute_result"
        },
        {
          "data": {
            "image/png": "[encoded data removed]",
            "text/plain": [
              "<Figure size 640x480 with 1 Axes>"
            ]
          },
          "metadata": {},
          "output_type": "display_data"
        }
      ],
      "source": [
        "plt.plot(train_losses)"
      ]
    },
    {
      "cell_type": "code",
      "execution_count": 11,
      "metadata": {
        "id": "0wBaVZ0UvkOG"
      },
      "outputs": [],
      "source": [
        "# Helper function to display results\n",
        "def display_image_grid(images, num_rows, num_cols, title_text):\n",
        "\n",
        "    fig = plt.figure(figsize=(num_cols*3., num_rows*3.), )\n",
        "    grid = ImageGrid(fig, 111, nrows_ncols=(num_rows, num_cols), axes_pad=0.15)\n",
        "\n",
        "    for ax, im in zip(grid, images):\n",
        "        ax.imshow(im, cmap=\"gray\")\n",
        "        ax.axis(\"off\")\n",
        "\n",
        "    plt.suptitle(title_text, fontsize=20)\n",
        "    plt.show()"
      ]
    },
    {
      "cell_type": "code",
      "execution_count": 1,
      "metadata": {
        "colab": {
          "base_uri": "https://localhost:8080/",
          "height": 479
        },
        "id": "aO3WkbTiuQQM",
        "outputId": "200bafbd-d32e-4dd8-d94f-26e50a853609"
      },
      "outputs": [
        {
          "ename": "NameError",
          "evalue": "name 'torch' is not defined",
          "output_type": "error",
          "traceback": [
            "\u001b[1;31m---------------------------------------------------------------------------\u001b[0m",
            "\u001b[1;31mNameError\u001b[0m                                 Traceback (most recent call last)",
            "\u001b[1;32mc:\\Users\\smyra\\jupyterNotebook Development\\Kaust\\fisrtCamp\\AutoEncoder_Pytorch_MNIST (1).ipynb Cell 13\u001b[0m line \u001b[0;36m<cell line: 4>\u001b[1;34m()\u001b[0m\n\u001b[0;32m      <a href='vscode-notebook-cell:/c%3A/Users/smyra/jupyterNotebook%20Development/Kaust/fisrtCamp/AutoEncoder_Pytorch_MNIST%20%281%29.ipynb#X15sZmlsZQ%3D%3D?line=0'>1</a>\u001b[0m \u001b[39m# Now we will try some actual generation. We will sample the encodings randomly and then pass them through decoder\u001b[39;00m\n\u001b[0;32m      <a href='vscode-notebook-cell:/c%3A/Users/smyra/jupyterNotebook%20Development/Kaust/fisrtCamp/AutoEncoder_Pytorch_MNIST%20%281%29.ipynb#X15sZmlsZQ%3D%3D?line=2'>3</a>\u001b[0m rows, cols \u001b[39m=\u001b[39m \u001b[39m2\u001b[39m, \u001b[39m7\u001b[39m\n\u001b[1;32m----> <a href='vscode-notebook-cell:/c%3A/Users/smyra/jupyterNotebook%20Development/Kaust/fisrtCamp/AutoEncoder_Pytorch_MNIST%20%281%29.ipynb#X15sZmlsZQ%3D%3D?line=3'>4</a>\u001b[0m sample_encodings \u001b[39m=\u001b[39m (torch\u001b[39m.\u001b[39mrand(rows\u001b[39m*\u001b[39mcols, dim_z)\u001b[39m.\u001b[39mto(device) \u001b[39m-\u001b[39m \u001b[39m0.5\u001b[39m) \u001b[39m*\u001b[39m \u001b[39m2\u001b[39m \u001b[39m# encoding space: [-1,1)\u001b[39;00m\n\u001b[0;32m      <a href='vscode-notebook-cell:/c%3A/Users/smyra/jupyterNotebook%20Development/Kaust/fisrtCamp/AutoEncoder_Pytorch_MNIST%20%281%29.ipynb#X15sZmlsZQ%3D%3D?line=4'>5</a>\u001b[0m \u001b[39mwith\u001b[39;00m torch\u001b[39m.\u001b[39mno_grad():\n\u001b[0;32m      <a href='vscode-notebook-cell:/c%3A/Users/smyra/jupyterNotebook%20Development/Kaust/fisrtCamp/AutoEncoder_Pytorch_MNIST%20%281%29.ipynb#X15sZmlsZQ%3D%3D?line=5'>6</a>\u001b[0m   generations \u001b[39m=\u001b[39m model\u001b[39m.\u001b[39mDecoder(sample_encodings)\u001b[39m.\u001b[39mcpu()\n",
            "\u001b[1;31mNameError\u001b[0m: name 'torch' is not defined"
          ]
        }
      ],
      "source": [
        "# Now we will try some actual generation. We will sample the encodings randomly and then pass them through decoder\n",
        "\n",
        "rows, cols = 2, 7\n",
        "sample_encodings = (torch.rand(rows*cols, dim_z).to(device) - 0.5) * 2 # encoding space: [-1,1)\n",
        "with torch.no_grad():\n",
        "  generations = model.Decoder(sample_encodings).cpu()\n",
        "  generations = generations.reshape(-1, 28, 28, 1)\n",
        "display_image_grid(generations, rows, cols, \"generated_images\")"
      ]
    },
    {
      "cell_type": "markdown",
      "metadata": {
        "id": "Zi16wGLUkWJa"
      },
      "source": [
        "The images aren't too fancy but we can see it's trying to learn.\n",
        "In a few images we can also guess the number it's trying to generate"
      ]
    }
  ],
  "metadata": {
    "accelerator": "GPU",
    "colab": {
      "provenance": []
    },
    "gpuClass": "standard",
    "kernelspec": {
      "display_name": "Python 3",
      "name": "python3"
    },
    "language_info": {
      "codemirror_mode": {
        "name": "ipython",
        "version": 3
      },
      "file_extension": ".py",
      "mimetype": "text/x-python",
      "name": "python",
      "nbconvert_exporter": "python",
      "pygments_lexer": "ipython3",
      "version": "3.9.12"
    }
  },
  "nbformat": 4,
  "nbformat_minor": 0
}
